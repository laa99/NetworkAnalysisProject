{
 "cells": [
  {
   "cell_type": "code",
   "execution_count": 1,
   "metadata": {
    "collapsed": true
   },
   "outputs": [],
   "source": [
    "import pickle\n",
    "import networkx as nx\n",
    "import matplotlib\n",
    "import matplotlib.pyplot as plt\n",
    "import scipy as sp\n",
    "import numpy as np\n",
    "\n",
    "%matplotlib inline"
   ]
  },
  {
   "cell_type": "markdown",
   "metadata": {},
   "source": [
    "### Helper Functions\n",
    "\n",
    "The first two are for loading and storing dictionaries to/from a pickle file"
   ]
  },
  {
   "cell_type": "code",
   "execution_count": 5,
   "metadata": {
    "collapsed": true
   },
   "outputs": [],
   "source": [
    "def store_dict_pickle(file_name, dictionary):\n",
    "    \"\"\"\n",
    "        Saves a dictionary to a pickle file\n",
    "\n",
    "        :param file_name: the name of the file the data will be stored in\n",
    "        :type file_name: str\n",
    "\n",
    "        :param dictionary: the dictionary to be stored in the file\n",
    "        :type dictionary: dict\n",
    "    \"\"\"\n",
    "\n",
    "    with open('data/' + file_name + '.pkl', 'wb') as f:\n",
    "        pickle.dump(dictionary, f, pickle.HIGHEST_PROTOCOL)\n",
    "\n",
    "\n",
    "def load_dict_pickle(file_name):\n",
    "    \"\"\"\n",
    "    Retrieves a dictionary form the specified file\n",
    "\n",
    "    :param file_name: the name of the file to load\n",
    "    :type file_name: str\n",
    "\n",
    "    :return: the dictionary retrieved from the file\n",
    "    :rtype dict\n",
    "    \"\"\"\n",
    "\n",
    "    with open('data/' + file_name + '.pkl', 'rb') as f:\n",
    "        dictionary =  pickle.load(f)\n",
    "    return dictionary"
   ]
  },
  {
   "cell_type": "markdown",
   "metadata": {},
   "source": [
    "# Loading Artist-Country Data"
   ]
  },
  {
   "cell_type": "code",
   "execution_count": 4,
   "metadata": {
    "collapsed": false
   },
   "outputs": [
    {
     "ename": "SyntaxError",
     "evalue": "unexpected EOF while parsing (<ipython-input-4-4a78dc645886>, line 16)",
     "output_type": "error",
     "traceback": [
      "\u001b[1;36m  File \u001b[1;32m\"<ipython-input-4-4a78dc645886>\"\u001b[1;36m, line \u001b[1;32m16\u001b[0m\n\u001b[1;33m    \u001b[0m\n\u001b[1;37m    ^\u001b[0m\n\u001b[1;31mSyntaxError\u001b[0m\u001b[1;31m:\u001b[0m unexpected EOF while parsing\n"
     ]
    }
   ],
   "source": [
    "#intializing dictionary variables\n",
    "dict_06 = load_dict_pickle(\"200_country_artist\")\n",
    "dict_07 = load_dict_pickle(\"200_country_artist\")\n",
    "dict_08 = load_dict_pickle(\"200_country_artist\")\n",
    "dict_09 = load_dict_pickle(\"200_country_artist\")\n",
    "dict_10 = load_dict_pickle(\"200_country_artist\")\n",
    "dict_11 = \n",
    "dict_12 = \n",
    "dict_13 = "
   ]
  },
  {
   "cell_type": "code",
   "execution_count": null,
   "metadata": {
    "collapsed": true
   },
   "outputs": [],
   "source": []
  }
 ],
 "metadata": {
  "kernelspec": {
   "display_name": "Python 3",
   "language": "python",
   "name": "python3"
  },
  "language_info": {
   "codemirror_mode": {
    "name": "ipython",
    "version": 3
   },
   "file_extension": ".py",
   "mimetype": "text/x-python",
   "name": "python",
   "nbconvert_exporter": "python",
   "pygments_lexer": "ipython3",
   "version": "3.4.3"
  }
 },
 "nbformat": 4,
 "nbformat_minor": 0
}
