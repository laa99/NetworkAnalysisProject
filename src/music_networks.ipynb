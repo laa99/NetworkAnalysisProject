{
 "cells": [
  {
   "cell_type": "code",
   "execution_count": 1,
   "metadata": {
    "collapsed": true
   },
   "outputs": [],
   "source": [
    "import pickle\n",
    "import networkx as nx\n",
    "import matplotlib\n",
    "import matplotlib.pyplot as plt\n",
    "import scipy as sp\n",
    "import numpy as np\n",
    "\n",
    "%matplotlib inline"
   ]
  },
  {
   "cell_type": "markdown",
   "metadata": {},
   "source": [
    "### Helper Functions\n",
    "\n",
    "The first two are for loading and storing dictionaries to/from a pickle file"
   ]
  },
  {
   "cell_type": "code",
   "execution_count": 4,
   "metadata": {
    "collapsed": true
   },
   "outputs": [],
   "source": [
    "def store_dict_pickle(file_name, dictionary):\n",
    "    \"\"\"\n",
    "        Saves a dictionary to a pickle file\n",
    "\n",
    "        :param file_name: the name of the file the data will be stored in\n",
    "        :type file_name: str\n",
    "\n",
    "        :param dictionary: the dictionary to be stored in the file\n",
    "        :type dictionary: dict\n",
    "    \"\"\"\n",
    "\n",
    "    with open('data/' + file_name + '.pkl', 'wb') as f:\n",
    "        pickle.dump(dictionary, f, pickle.HIGHEST_PROTOCOL)\n",
    "\n",
    "\n",
    "def load_dict_pickle(file_name):\n",
    "    \"\"\"\n",
    "    Retrieves a dictionary form the specified file\n",
    "\n",
    "    :param file_name: the name of the file to load\n",
    "    :type file_name: str\n",
    "\n",
    "    :return: the dictionary retrieved from the file\n",
    "    :rtype dict\n",
    "    \"\"\"\n",
    "\n",
    "    with open('data/' + file_name + '.pkl', 'rb') as f:\n",
    "        dictionary =  pickle.load(f)\n",
    "    return dictionary"
   ]
  },
  {
   "cell_type": "markdown",
   "metadata": {},
   "source": [
    "# Loading Artist-Country Data"
   ]
  },
  {
   "cell_type": "code",
   "execution_count": 5,
   "metadata": {
    "collapsed": false
   },
   "outputs": [],
   "source": [
    "#intializing dictionary variables\n",
    "dict_05 = load_dict_pickle(\"2005_country_artist\")\n",
    "dict_06 = load_dict_pickle(\"2006_country_artist\")\n",
    "dict_07 = load_dict_pickle(\"2007_country_artist\")\n",
    "dict_08 = load_dict_pickle(\"2008_country_artist\")\n",
    "dict_09 = load_dict_pickle(\"2009_country_artist\")\n",
    "dict_10 = load_dict_pickle(\"2010_country_artist\")\n",
    "dict_13 = load_dict_pickle(\"2013_country_artist\")"
   ]
  },
  {
   "cell_type": "markdown",
   "metadata": {},
   "source": [
    "# Initializing Graphs From Dictionaries"
   ]
  },
  {
   "cell_type": "code",
   "execution_count": 68,
   "metadata": {
    "collapsed": false
   },
   "outputs": [],
   "source": [
    "import copy\n",
    "\n",
    "def top_artists(year_dict, top_number):\n",
    "    # create graph to represent trends for given year\n",
    "    G = nx.Graph()\n",
    "    \n",
    "    # loop through each artist in the dictionary\n",
    "    for country in year_dict:\n",
    "        # create country node & add it\n",
    "        G.add_node(country)\n",
    "        \n",
    "        # get top 5 artists for current country\n",
    "        artists = copy.copy(year_dict[country])\n",
    "        num_artist = len(artists)\n",
    "        for i in range(top_number):\n",
    "            # make sure the country has enough top artists\n",
    "            if( num_artist < top_number):\n",
    "                # remove country's node and skip it\n",
    "                G.remove_node(country)\n",
    "                break;\n",
    "            \n",
    "            # find ith top artist\n",
    "            top = max(artists.keys(), key=(lambda k: artists[k]))\n",
    "            \n",
    "            #create node for ith top artist and make a conenction b/n it and the country\n",
    "            G.add_node(top)\n",
    "            G.add_edge(country, top, weight=year_dict[country][top])\n",
    "            \n",
    "            artists.pop(top)\n",
    "\n",
    "    return G"
   ]
  },
  {
   "cell_type": "code",
   "execution_count": 81,
   "metadata": {
    "collapsed": false
   },
   "outputs": [],
   "source": [
    "G = top_artists(dict_08, 10)\n",
    "# pos = nx.spring_layout(G)\n",
    "# nx.draw(G, pos=pos);\n",
    "# plt.axis('off')\n",
    "# plt.show()"
   ]
  },
  {
   "cell_type": "code",
   "execution_count": null,
   "metadata": {
    "collapsed": true
   },
   "outputs": [],
   "source": []
  }
 ],
 "metadata": {
  "kernelspec": {
   "display_name": "Python 3",
   "language": "python",
   "name": "python3"
  },
  "language_info": {
   "codemirror_mode": {
    "name": "ipython",
    "version": 3
   },
   "file_extension": ".py",
   "mimetype": "text/x-python",
   "name": "python",
   "nbconvert_exporter": "python",
   "pygments_lexer": "ipython3",
   "version": "3.4.3"
  }
 },
 "nbformat": 4,
 "nbformat_minor": 0
}
