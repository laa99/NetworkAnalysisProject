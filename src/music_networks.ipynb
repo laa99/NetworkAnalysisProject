{
 "cells": [
  {
   "cell_type": "code",
   "execution_count": 1,
   "metadata": {
    "collapsed": true
   },
   "outputs": [],
   "source": [
    "import pickle\n",
    "import networkx as nx\n",
    "import matplotlib\n",
    "import matplotlib.pyplot as plt\n",
    "import scipy as sp\n",
    "import numpy as np\n",
    "\n",
    "%matplotlib inline"
   ]
  },
  {
   "cell_type": "markdown",
   "metadata": {},
   "source": [
    "### Helper Functions\n",
    "\n",
    "The first two are for loading and storing dictionaries to/from a pickle file"
   ]
  },
  {
   "cell_type": "code",
   "execution_count": 2,
   "metadata": {
    "collapsed": true
   },
   "outputs": [],
   "source": [
    "def store_dict_pickle(file_name, dictionary):\n",
    "    \"\"\"\n",
    "        Saves a dictionary to a pickle file\n",
    "\n",
    "        :param file_name: the name of the file the data will be stored in\n",
    "        :type file_name: str\n",
    "\n",
    "        :param dictionary: the dictionary to be stored in the file\n",
    "        :type dictionary: dict\n",
    "    \"\"\"\n",
    "\n",
    "    with open('data/' + file_name + '.pkl', 'wb') as f:\n",
    "        pickle.dump(dictionary, f, pickle.HIGHEST_PROTOCOL)\n",
    "\n",
    "\n",
    "def load_dict_pickle(file_name):\n",
    "    \"\"\"\n",
    "    Retrieves a dictionary form the specified file\n",
    "\n",
    "    :param file_name: the name of the file to load\n",
    "    :type file_name: str\n",
    "\n",
    "    :return: the dictionary retrieved from the file\n",
    "    :rtype dict\n",
    "    \"\"\"\n",
    "\n",
    "    with open('data/' + file_name + '.pkl', 'rb') as f:\n",
    "        dictionary =  pickle.load(f)\n",
    "    return dictionary"
   ]
  },
  {
   "cell_type": "markdown",
   "metadata": {},
   "source": [
    "# Loading Artist-Country Data"
   ]
  },
  {
   "cell_type": "code",
   "execution_count": 3,
   "metadata": {
    "collapsed": false
   },
   "outputs": [],
   "source": [
    "#intializing dictionary variables\n",
    "dict_05 = load_dict_pickle(\"2005_country_artist\")\n",
    "dict_06 = load_dict_pickle(\"2006_country_artist\")\n",
    "dict_07 = load_dict_pickle(\"2007_country_artist\")\n",
    "dict_08 = load_dict_pickle(\"2008_country_artist\")\n",
    "dict_09 = load_dict_pickle(\"2009_country_artist\")\n",
    "dict_10 = load_dict_pickle(\"2010_country_artist\")\n",
    "dict_13 = load_dict_pickle(\"2013_country_artist\")"
   ]
  },
  {
   "cell_type": "markdown",
   "metadata": {},
   "source": [
    "# Initializing Graphs From Dictionaries"
   ]
  },
  {
   "cell_type": "code",
   "execution_count": 4,
   "metadata": {
    "collapsed": false
   },
   "outputs": [],
   "source": [
    "import copy\n",
    "\n",
    "def top_artists(year_dict, top_number):\n",
    "    # create graph to represent trends for given year\n",
    "    G = nx.Graph()\n",
    "    \n",
    "    # loop through each artist in the dictionary\n",
    "    for country in year_dict:\n",
    "        # create country node & add it\n",
    "        G.add_node(country)\n",
    "        G.node[country]['country'] = True\n",
    "        \n",
    "        # get top 5 artists for current country\n",
    "        artists = copy.copy(year_dict[country])\n",
    "        num_artist = len(artists)\n",
    "        for i in range(top_number):\n",
    "            # make sure the country has enough top artists\n",
    "            if( num_artist < top_number):\n",
    "                # remove country's node and skip it\n",
    "                G.remove_node(country)\n",
    "                break;\n",
    "            \n",
    "            # find ith top artist\n",
    "            top = max(artists.keys(), key=(lambda k: artists[k]))\n",
    "            \n",
    "            #create node for ith top artist and make a conenction b/n it and the country\n",
    "            G.add_node(top)\n",
    "            G.node[top]['artist'] = True\n",
    "            G.add_edge(country, top, weight=year_dict[country][top])\n",
    "            \n",
    "            artists.pop(top)\n",
    "\n",
    "    return G"
   ]
  },
  {
   "cell_type": "code",
   "execution_count": 5,
   "metadata": {
    "collapsed": false
   },
   "outputs": [],
   "source": [
    "# pos = nx.spring_layout(G)\n",
    "# nx.draw(G, pos=pos);\n",
    "# plt.axis('off')\n",
    "# plt.show()\n",
    "\n",
    "G_05 = top_artists(dict_05, 5)\n",
    "G_06 = top_artists(dict_06, 5)\n",
    "G_07 = top_artists(dict_07, 5)\n",
    "G_08 = top_artists(dict_08, 5)\n",
    "G_09 = top_artists(dict_09, 5)\n",
    "\n",
    "# Takes two lists and calculates the JS Index associated with them.\n",
    "# Returns JS Index as a float\n",
    "def Jaccard(neighborhood1, neighborhood2):\n",
    "    \"\"\"\n",
    "        J(A,B) = |A n B| / |A U B| \n",
    "        A n B = elements in A AND B \n",
    "        A U B = elments in A OR B\n",
    "    \"\"\"\n",
    "    #want to iterate through longer list;\n",
    "    if len(neighborhood1) >= len(neighborhood2):\n",
    "        list1 = neighborhood1\n",
    "        list2 = neighborhood2\n",
    "    else:\n",
    "        list1 = neighborhood2\n",
    "        list2 = neighborhood1\n",
    "    \n",
    "    #AND --> A n B\n",
    "    intersection = 0\n",
    "    #OR --> A U B\n",
    "    #combined the lists & then get the set to only have unique occurrences. Then get the length\n",
    "    union = len(set(list1 + list2))\n",
    "    \n",
    "    #find the number of concordant and discordant nodes\n",
    "    for node in list1:\n",
    "        #if it's concordant\n",
    "        if node in list2:\n",
    "            intersection += 1\n",
    "\n",
    "    #calculate index\n",
    "    return intersection / union"
   ]
  },
  {
   "cell_type": "code",
   "execution_count": 18,
   "metadata": {
    "collapsed": false
   },
   "outputs": [
    {
     "name": "stdout",
     "output_type": "stream",
     "text": [
      "['Incubus', 'Joy Division', 'Depeche Mode', 'Indochine', 'Muse']\n"
     ]
    }
   ],
   "source": [
    "index = Jaccard(G_08.neighbors('United States'), G_09.neighbors('United States'))\n",
    "\n",
    "# put the years in a dictionary\n",
    "graph_years = {5: G_05, 6: G_06, 7: G_07, 8: G_08, 9: G_09}\n",
    "years = [G_05, G_06, G_07, G_08, G_09]\n",
    "\n",
    "def years_similarity(years):\n",
    "    # getting Jaccard similarity for each country from years 2005-2006. Where the similarity is calculated for consecutive years\n",
    "    \n",
    "    # make dicionary to hold all similariteis\n",
    "    # dict['country'] = [05-06, 06-07, 07-08, 08-09] if value is not available, then it equals -1\n",
    "    results = dict()\n",
    "    \n",
    "    # get all countries from the graph\n",
    "    for graph in years:\n",
    "        x=1\n",
    "        for country in nx.get_node_attributes(graph, 'country').keys():\n",
    "            if not country in results:\n",
    "                results[country] = list()\n",
    "                \n",
    "    # get Jaccard Similarities\n",
    "    for i in range(len(years) - 1):\n",
    "        # get the jaccard similarity for the current year and next year countries\n",
    "        for country in results:\n",
    "            current_year = years[i] \n",
    "            next_year = years[i+1]\n",
    "            if country in current_year and country in next_year:\n",
    "                index = Jaccard(current_year.neighbors(country), next_year.neighbors(country))\n",
    "                results[country].append(index)\n",
    "            else:\n",
    "                results[country].append(-1)\n",
    "                \n",
    "    return results\n",
    "\n",
    "x = years_similarity(years)"
   ]
  },
  {
   "cell_type": "markdown",
   "metadata": {},
   "source": [
    "# Put Jaccard Similarities into CSV File"
   ]
  },
  {
   "cell_type": "code",
   "execution_count": 55,
   "metadata": {
    "collapsed": false
   },
   "outputs": [],
   "source": [
    "import csv\n",
    "\n",
    "def write_Jaccard_to_CSV(similarities):\n",
    "    file = open('data/jaccard_indexes.csv', 'w', newline='')\n",
    "    writer = csv.writer(file)\n",
    "\n",
    "    # make header row\n",
    "    row = []\n",
    "    row.append('Country')\n",
    "    row.append('2005-2006')\n",
    "    row.append('2006-2007')\n",
    "    row.append('2007-2008')\n",
    "    row.append('2008-2009')\n",
    "\n",
    "    writer.writerow(row)\n",
    "\n",
    "    # write all the results from getting the Jaccard Similarities for\n",
    "    # all the countries\n",
    "    for country in similarities:\n",
    "        row = []\n",
    "        row.append(country)\n",
    "        for item in similarities[country]:\n",
    "            row.append(item)\n",
    "        writer.writerow(row)\n",
    "        \n",
    "    file.close()\n",
    "    \n",
    "write_Jaccard_to_CSV(x)"
   ]
  },
  {
   "cell_type": "markdown",
   "metadata": {},
   "source": [
    "# Getting Results"
   ]
  },
  {
   "cell_type": "code",
   "execution_count": 151,
   "metadata": {
    "collapsed": false
   },
   "outputs": [
    {
     "data": {
      "image/png": "[encoded data removed]",
      "text/plain": [
       "<matplotlib.figure.Figure at 0x7f3efa514630>"
      ]
     },
     "metadata": {},
     "output_type": "display_data"
    },
    {
     "data": {
      "image/png": "[encoded data removed]",
      "text/plain": [
       "<matplotlib.figure.Figure at 0x7f3efa633048>"
      ]
     },
     "metadata": {},
     "output_type": "display_data"
    }
   ],
   "source": [
    "# graphing networks for 2005 & 2009\n",
    "# nx.get_node_attributes(G_05, )\n",
    "\n",
    "def top_artists_graph(G):\n",
    "    # top 10 countries that use Last.fm\n",
    "    top_countries = ['United States', 'United Kingdom', 'Poland', 'Germany', 'Norway', 'Finland', 'Canada', \n",
    "                 'Turkey', 'Italy', 'Sweden']\n",
    "    top_graph = G_05.subgraph(top_countries)\n",
    "    \n",
    "    artist_list = list()\n",
    "    edge_list = []\n",
    "    for country in top_countries:\n",
    "        # get neighbor and add it to the graph with appropriate edges\n",
    "        neighbors = G_05.neighbors(country)\n",
    "        for artist in neighbors:\n",
    "            # if it's not in the graph add it\n",
    "            if not artist in top_graph:\n",
    "                top_graph.add_node(artist)\n",
    "                artist_list.append(artist)\n",
    "            # add edge for current country and artist\n",
    "            top_graph.add_edge(country, artist)\n",
    "            edge_list.append((country, artist))\n",
    "    return top_graph, top_countries, artist_list, edge_list\n",
    "\n",
    "plt.figure(1)\n",
    "plt.subplot()\n",
    "top_05, countries, artists, edges = top_artists_graph(G_05)\n",
    "pos = nx.random_layout(top_05)\n",
    "\n",
    "shells = [countries, artists]\n",
    "pos = nx.shell_layout(top_05, shells)\n",
    "\n",
    "nx.draw_networkx_nodes(top_05, pos, nodelist=countries, node_color=\"b\")\n",
    "nx.draw_networkx_nodes(top_05, pos, nodelist=artists, node_color=\"r\")\n",
    "\n",
    "nx.draw_networkx_edges(top_05, pos)\n",
    "# nx.draw_networkx_labels(top_05, pos)\n",
    "\n",
    "plt.title('2005 Top Artists')\n",
    "plt.show()\n",
    "\n",
    "# Plot 2009\n",
    "plt.figure(2)\n",
    "plt.subplot()\n",
    "top_09, countries, artists, edges = top_artists_graph(G_09)\n",
    "pos = nx.random_layout(top_09)\n",
    "\n",
    "shells = [countries, artists]\n",
    "pos = nx.shell_layout(top_09, shells)\n",
    "\n",
    "nx.draw_networkx_nodes(top_09, pos, nodelist=countries, node_color=\"b\")\n",
    "nx.draw_networkx_nodes(top_09, pos, nodelist=artists, node_color=\"r\")\n",
    "\n",
    "nx.draw_networkx_edges(top_09, pos)\n",
    "\n",
    "plt.title('2009 Top Artists')\n",
    "plt.show()"
   ]
  },
  {
   "cell_type": "markdown",
   "metadata": {},
   "source": [
    "# Displaying Top Artists for Each Country"
   ]
  },
  {
   "cell_type": "code",
   "execution_count": 43,
   "metadata": {
    "collapsed": false
   },
   "outputs": [
    {
     "name": "stdout",
     "output_type": "stream",
     "text": [
      "United States Top Artists 2005-2009\n",
      "2005: ['Bright Eyes', 'Death Cab For Cutie', 'Elliott Smith', 'Broken Social Scene', 'Everclear'] \n",
      "\n",
      "2006: ['The Beatles', 'Radiohead', 'Death Cab For Cutie', 'Elliott Smith', 'Metric'] \n",
      "\n",
      "2007: ['The Beatles', 'Modest Mouse', 'Humanwine', 'Radiohead', 'Death Cab For Cutie'] \n",
      "\n",
      "2008: ['Nine Inch Nails', 'The Beatles', 'Radiohead', 'Elliott Smith', 'Girl Talk'] \n",
      "\n",
      "2009: ['The Beatles', 'Nine Inch Nails', 'Alkaline Trio', 'Radiohead', 'Fear Before The March Of Flames'] \n",
      "\n"
     ]
    }
   ],
   "source": [
    "# United States\n",
    "print('United States Top Artists 2005-2009')\n",
    "print('2005: %r \\n' % G_05.neighbors('United States'))\n",
    "print('2006: %r \\n' % G_06.neighbors('United States'))\n",
    "print('2007: %r \\n' % G_07.neighbors('United States'))\n",
    "print('2008: %r \\n' % G_08.neighbors('United States'))\n",
    "print('2009: %r \\n' % G_09.neighbors('United States'))"
   ]
  },
  {
   "cell_type": "code",
   "execution_count": 44,
   "metadata": {
    "collapsed": false
   },
   "outputs": [
    {
     "name": "stdout",
     "output_type": "stream",
     "text": [
      "United States Top Artists 2005-2009\n",
      "2005: ['The Smiths', 'Idlewild', 'Radiohead', 'Suede', 'Easyworld'] \n",
      "\n",
      "2006: ['Snow Patrol', 'Belle And Sebastian', 'Radiohead', 'Mando Diao', 'Muse'] \n",
      "\n",
      "2007: ['The Beatles', 'Death Cab For Cutie', 'The Fray', 'Travis', 'Arcade Fire'] \n",
      "\n",
      "2008: ['Travis', 'Radiohead', 'Muse', 'Coldplay', 'Bloc Party'] \n",
      "\n",
      "2009: ['The Veronicas', 'Radiohead', 'Muse', 'Coldplay', 'Travis'] \n",
      "\n"
     ]
    }
   ],
   "source": [
    "print('United States Top Artists 2005-2009')\n",
    "print('2005: %r \\n' % G_05.neighbors('United Kingdom'))\n",
    "print('2006: %r \\n' % G_06.neighbors('United Kingdom'))\n",
    "print('2007: %r \\n' % G_07.neighbors('United Kingdom'))\n",
    "print('2008: %r \\n' % G_08.neighbors('United Kingdom'))\n",
    "print('2009: %r \\n' % G_09.neighbors('United Kingdom'))"
   ]
  },
  {
   "cell_type": "code",
   "execution_count": 45,
   "metadata": {
    "collapsed": false
   },
   "outputs": [
    {
     "name": "stdout",
     "output_type": "stream",
     "text": [
      "United States Top Artists 2005-2009\n",
      "2005: ['My Dying Bride', 'Battlelore', \"Leaves' Eyes\", 'Draconian', 'Dir En Grey'] \n",
      "\n",
      "2006: ['Mucc', 'ムック', '雅-Miyavi-', 'Acidman', 'Dir En Grey'] \n",
      "\n",
      "2007: ['Björk', 'Nine Inch Nails', 'System Of A Down', 'Depeche Mode', 'Dir En Grey'] \n",
      "\n",
      "2008: ['Nine Inch Nails', 'Kult', 'Metallica', 'Coldplay', 'System Of A Down'] \n",
      "\n",
      "2009: ['Nine Inch Nails', 'Skinny Puppy', 'System Of A Down', 'Placebo', 'Sting'] \n",
      "\n"
     ]
    }
   ],
   "source": [
    "print('United States Top Artists 2005-2009')\n",
    "print('2005: %r \\n' % G_05.neighbors('Poland'))\n",
    "print('2006: %r \\n' % G_06.neighbors('Poland'))\n",
    "print('2007: %r \\n' % G_07.neighbors('Poland'))\n",
    "print('2008: %r \\n' % G_08.neighbors('Poland'))\n",
    "print('2009: %r \\n' % G_09.neighbors('Poland'))"
   ]
  },
  {
   "cell_type": "code",
   "execution_count": 47,
   "metadata": {
    "collapsed": false
   },
   "outputs": [
    {
     "name": "stdout",
     "output_type": "stream",
     "text": [
      "Germany Top Artists 2005-2009\n",
      "2005: ['Air', 'Massive Attack', 'Metallica', 'Tindersticks', 'System Of A Down'] \n",
      "\n",
      "2006: ['Led Zeppelin', 'The Kinks', 'The Strokes', 'Zao', 'Mando Diao'] \n",
      "\n",
      "2007: ['Modest Mouse', 'Boards Of Canada', 'Akira Yamaoka', 'Mando Diao', 'Man Or Astro-Man?'] \n",
      "\n",
      "2008: ['Nine Inch Nails', 'Akira Yamaoka', 'Massive Attack', 'Story One', 'Gustavo Santaolalla'] \n",
      "\n",
      "2009: ['U2', 'Clint Mansell', 'Depeche Mode', 'Portishead', 'Muse'] \n",
      "\n"
     ]
    }
   ],
   "source": [
    "print('Germany Top Artists 2005-2009')\n",
    "print('2005: %r \\n' % G_05.neighbors('Germany'))\n",
    "print('2006: %r \\n' % G_06.neighbors('Germany'))\n",
    "print('2007: %r \\n' % G_07.neighbors('Germany'))\n",
    "print('2008: %r \\n' % G_08.neighbors('Germany'))\n",
    "print('2009: %r \\n' % G_09.neighbors('Germany'))"
   ]
  },
  {
   "cell_type": "code",
   "execution_count": 49,
   "metadata": {
    "collapsed": false
   },
   "outputs": [
    {
     "name": "stdout",
     "output_type": "stream",
     "text": [
      "Norway Top Artists 2005-2009\n",
      "2005: ['The Clash', 'Lillebjørn Nilsen', 'Bel Canto', 'Enya', 'David Gray'] \n",
      "\n",
      "2006: ['Johnny Cash', 'Unter Null', 'Guided By Voices', 'Bel Canto', 'Tori Amos'] \n",
      "\n",
      "2007: ['Bel Canto', 'Radiohead', 'Guided By Voices', 'Tori Amos', 'The National'] \n",
      "\n",
      "2008: ['Nine Inch Nails', 'Turbonegro', 'Loreena Mckennitt', 'Raga Rockers', 'Muse'] \n",
      "\n",
      "2009: ['Wolfgang Amadeus Mozart', 'Backstreet Boys', 'Underground Kingz', 'Daft Punk', 'Michael Jackson'] \n",
      "\n"
     ]
    }
   ],
   "source": [
    "print('Norway Top Artists 2005-2009')\n",
    "print('2005: %r \\n' % G_05.neighbors('Norway'))\n",
    "print('2006: %r \\n' % G_06.neighbors('Norway'))\n",
    "print('2007: %r \\n' % G_07.neighbors('Norway'))\n",
    "print('2008: %r \\n' % G_08.neighbors('Norway'))\n",
    "print('2009: %r \\n' % G_09.neighbors('Norway'))"
   ]
  },
  {
   "cell_type": "code",
   "execution_count": 50,
   "metadata": {
    "collapsed": false
   },
   "outputs": [
    {
     "name": "stdout",
     "output_type": "stream",
     "text": [
      "Finland Top Artists 2005-2009\n",
      "2005: ['Paradise Lost', 'Ensiferum', 'Machinae Supremacy', 'Rush', 'System Of A Down'] \n",
      "\n",
      "2006: ['Tool', 'Children Of Bodom', 'Metallica', 'Type O Negative', 'The 69 Eyes'] \n",
      "\n",
      "2007: ['In Flames', 'Metallica', 'Red Hot Chili Peppers', 'Mokoma', 'The 69 Eyes'] \n",
      "\n",
      "2008: ['In Flames', 'Paradise Lost', 'Kotiteollisuus', 'Machinae Supremacy', 'The 69 Eyes'] \n",
      "\n",
      "2009: ['Paradise Lost', 'Kotiteollisuus', 'Metallica', '1200 Micrograms', 'The 69 Eyes'] \n",
      "\n"
     ]
    }
   ],
   "source": [
    "print('Finland Top Artists 2005-2009')\n",
    "print('2005: %r \\n' % G_05.neighbors('Finland'))\n",
    "print('2006: %r \\n' % G_06.neighbors('Finland'))\n",
    "print('2007: %r \\n' % G_07.neighbors('Finland'))\n",
    "print('2008: %r \\n' % G_08.neighbors('Finland'))\n",
    "print('2009: %r \\n' % G_09.neighbors('Finland'))"
   ]
  },
  {
   "cell_type": "code",
   "execution_count": 51,
   "metadata": {
    "collapsed": false
   },
   "outputs": [
    {
     "name": "stdout",
     "output_type": "stream",
     "text": [
      "Canada Top Artists 2005-2009\n",
      "2005: ['Rockapella', 'Dan Gibson', 'Evanescence', 'Céline Dion', 'Enya'] \n",
      "\n",
      "2006: ['Pink Floyd', 'Broadcast', 'Evanescence', 'Sigur Rós', 'The 69 Eyes'] \n",
      "\n",
      "2007: ['The Doors', 'Nine Inch Nails', 'Klaxons', 'The Protomen', 'The 69 Eyes'] \n",
      "\n",
      "2008: ['The Doors', 'Nine Inch Nails', 'Eminem', 'The Beatles', 'Hawkwind'] \n",
      "\n",
      "2009: ['Hawkwind', 'Modest Mouse', 'Nirvana', 'Foo Fighters', 'Sigur Rós'] \n",
      "\n"
     ]
    }
   ],
   "source": [
    "print('Canada Top Artists 2005-2009')\n",
    "print('2005: %r \\n' % G_05.neighbors('Canada'))\n",
    "print('2006: %r \\n' % G_06.neighbors('Canada'))\n",
    "print('2007: %r \\n' % G_07.neighbors('Canada'))\n",
    "print('2008: %r \\n' % G_08.neighbors('Canada'))\n",
    "print('2009: %r \\n' % G_09.neighbors('Canada'))"
   ]
  },
  {
   "cell_type": "code",
   "execution_count": 52,
   "metadata": {
    "collapsed": false
   },
   "outputs": [
    {
     "name": "stdout",
     "output_type": "stream",
     "text": [
      "Turkey Top Artists 2005-2009\n",
      "2005: ['Boards Of Canada', 'Vitalic', 'Depeche Mode', 'Sigur Rós', 'Röyksopp'] \n",
      "\n",
      "2006: ['Tool', 'Tenhi', 'Frédéric Chopin', 'Pain Of Salvation', 'Death'] \n",
      "\n",
      "2007: ['Tool', 'Queensrÿche', 'Radiohead', 'Porcupine Tree', 'Tori Amos'] \n",
      "\n",
      "2008: ['Café Del Mar', 'Madonna', 'Danny Elfman', 'Portishead', 'Ulver'] \n",
      "\n",
      "2009: ['Eddie Vedder', 'Radiohead', 'Röyksopp', 'Hayko Cepkin', 'Leonard Cohen'] \n",
      "\n"
     ]
    }
   ],
   "source": [
    "print('Turkey Top Artists 2005-2009')\n",
    "print('2005: %r \\n' % G_05.neighbors('Turkey'))\n",
    "print('2006: %r \\n' % G_06.neighbors('Turkey'))\n",
    "print('2007: %r \\n' % G_07.neighbors('Turkey'))\n",
    "print('2008: %r \\n' % G_08.neighbors('Turkey'))\n",
    "print('2009: %r \\n' % G_09.neighbors('Turkey'))"
   ]
  },
  {
   "cell_type": "code",
   "execution_count": 53,
   "metadata": {
    "collapsed": false
   },
   "outputs": [
    {
     "name": "stdout",
     "output_type": "stream",
     "text": [
      "Italy Top Artists 2005-2009\n",
      "2005: ['In Flames', 'Judas Priest', 'Lacuna Coil', 'Månegarm', 'Children Of Bodom'] \n",
      "\n",
      "2006: ['Sentenced', 'Björk', 'Blind Guardian', 'Placebo', 'The Gathering'] \n",
      "\n",
      "2007: ['Sentenced', 'Him', 'Metallica', 'The Gathering', 'Nightwish'] \n",
      "\n",
      "2008: ['Tristania', 'Elio E Le Storie Tese', 'Blind Guardian', 'The Gathering', 'Nightwish'] \n",
      "\n",
      "2009: ['Vasco Rossi', 'Michael Jackson', 'Misfits', 'Joy Division', 'Elio E Le Storie Tese'] \n",
      "\n"
     ]
    }
   ],
   "source": [
    "print('Italy Top Artists 2005-2009')\n",
    "print('2005: %r \\n' % G_05.neighbors('Italy'))\n",
    "print('2006: %r \\n' % G_06.neighbors('Italy'))\n",
    "print('2007: %r \\n' % G_07.neighbors('Italy'))\n",
    "print('2008: %r \\n' % G_08.neighbors('Italy'))\n",
    "print('2009: %r \\n' % G_09.neighbors('Italy'))"
   ]
  },
  {
   "cell_type": "code",
   "execution_count": 54,
   "metadata": {
    "collapsed": false
   },
   "outputs": [
    {
     "name": "stdout",
     "output_type": "stream",
     "text": [
      "Sweden Top Artists 2005-2009\n",
      "2005: ['Deftones', 'Melvins', 'Kent', 'The Legendary Pink Dots', 'System Of A Down'] \n",
      "\n",
      "2006: ['Pantera', 'Melvins', 'Soilwork', 'Black Flag', 'Sabaton'] \n",
      "\n",
      "2007: ['Kings Of Leon', 'Disturbed', 'Soilwork', 'Black Rebel Motorcycle Club', 'Sonic Syndicate'] \n",
      "\n",
      "2008: ['Disturbed', 'Sonic Syndicate', 'Manu Chao', 'Black Rebel Motorcycle Club', 'The Strokes'] \n",
      "\n",
      "2009: ['Kamelot', 'Kings Of Leon', 'Soilwork', 'Volbeat', 'Mando Diao'] \n",
      "\n"
     ]
    }
   ],
   "source": [
    "print('Sweden Top Artists 2005-2009')\n",
    "print('2005: %r \\n' % G_05.neighbors('Sweden'))\n",
    "print('2006: %r \\n' % G_06.neighbors('Sweden'))\n",
    "print('2007: %r \\n' % G_07.neighbors('Sweden'))\n",
    "print('2008: %r \\n' % G_08.neighbors('Sweden'))\n",
    "print('2009: %r \\n' % G_09.neighbors('Sweden'))"
   ]
  },
  {
   "cell_type": "code",
   "execution_count": null,
   "metadata": {
    "collapsed": true
   },
   "outputs": [],
   "source": []
  }
 ],
 "metadata": {
  "kernelspec": {
   "display_name": "Python 3",
   "language": "python",
   "name": "python3"
  },
  "language_info": {
   "codemirror_mode": {
    "name": "ipython",
    "version": 3
   },
   "file_extension": ".py",
   "mimetype": "text/x-python",
   "name": "python",
   "nbconvert_exporter": "python",
   "pygments_lexer": "ipython3",
   "version": "3.4.3"
  }
 },
 "nbformat": 4,
 "nbformat_minor": 0
}
