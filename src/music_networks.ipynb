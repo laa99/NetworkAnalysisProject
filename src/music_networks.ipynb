{
 "cells": [
  {
   "cell_type": "code",
   "execution_count": 7,
   "metadata": {
    "collapsed": true
   },
   "outputs": [],
   "source": [
    "import pickle\n",
    "import networkx as nx\n",
    "import matplotlib\n",
    "import matplotlib.pyplot as plt\n",
    "import scipy as sp\n",
    "import numpy as np\n",
    "\n",
    "%matplotlib inline"
   ]
  },
  {
   "cell_type": "markdown",
   "metadata": {},
   "source": [
    "### Helper Functions\n",
    "\n",
    "The first two are for loading and storing dictionaries to/from a pickle file"
   ]
  },
  {
   "cell_type": "code",
   "execution_count": 8,
   "metadata": {
    "collapsed": true
   },
   "outputs": [],
   "source": [
    "def store_dict_pickle(file_name, dictionary):\n",
    "    \"\"\"\n",
    "        Saves a dictionary to a pickle file\n",
    "\n",
    "        :param file_name: the name of the file the data will be stored in\n",
    "        :type file_name: str\n",
    "\n",
    "        :param dictionary: the dictionary to be stored in the file\n",
    "        :type dictionary: dict\n",
    "    \"\"\"\n",
    "\n",
    "    with open('data/' + file_name + '.pkl', 'wb') as f:\n",
    "        pickle.dump(dictionary, f, pickle.HIGHEST_PROTOCOL)\n",
    "\n",
    "\n",
    "def load_dict_pickle(file_name):\n",
    "    \"\"\"\n",
    "    Retrieves a dictionary form the specified file\n",
    "\n",
    "    :param file_name: the name of the file to load\n",
    "    :type file_name: str\n",
    "\n",
    "    :return: the dictionary retrieved from the file\n",
    "    :rtype dict\n",
    "    \"\"\"\n",
    "\n",
    "    with open('data/' + file_name + '.pkl', 'rb') as f:\n",
    "        dictionary =  pickle.load(f)\n",
    "    return dictionary"
   ]
  },
  {
   "cell_type": "markdown",
   "metadata": {},
   "source": [
    "# Loading Artist-Country Data"
   ]
  },
  {
   "cell_type": "code",
   "execution_count": 9,
   "metadata": {
    "collapsed": false
   },
   "outputs": [],
   "source": [
    "#intializing dictionary variables\n",
    "dict_05 = load_dict_pickle(\"2005_country_artist\")\n",
    "dict_06 = load_dict_pickle(\"2006_country_artist\")\n",
    "dict_07 = load_dict_pickle(\"2007_country_artist\")\n",
    "dict_08 = load_dict_pickle(\"2008_country_artist\")\n",
    "dict_09 = load_dict_pickle(\"2009_country_artist\")\n",
    "dict_10 = load_dict_pickle(\"2010_country_artist\")\n",
    "dict_13 = load_dict_pickle(\"2013_country_artist\")"
   ]
  },
  {
   "cell_type": "markdown",
   "metadata": {},
   "source": [
    "# Initializing Graphs From Dictionaries"
   ]
  },
  {
   "cell_type": "code",
   "execution_count": 10,
   "metadata": {
    "collapsed": false
   },
   "outputs": [],
   "source": [
    "# year 5 graph\n",
    "G_05 = nx.Graph(dict_05)\n",
    "\n",
    "# year 6 graph\n",
    "G_06 = nx.Graph(dict_06)\n",
    "\n",
    "# year 7 graph\n",
    "G_07 = nx.Graph(dict_07)\n",
    "\n",
    "# year 8 graph\n",
    "G_08 = nx.Graph(dict_08)\n",
    "\n",
    "# year 9 graph\n",
    "G_09 = nx.Graph(dict_09)\n",
    "\n",
    "# year 10 graph\n",
    "G_10 = nx.Graph(dict_10)\n",
    "\n",
    "# year 13 graph\n",
    "G_13 = nx.Graph(dict_13)\n"
   ]
  },
  {
   "cell_type": "code",
   "execution_count": 11,
   "metadata": {
    "collapsed": false
   },
   "outputs": [
    {
     "name": "stdout",
     "output_type": "stream",
     "text": [
      "25767\n",
      "60728\n",
      "78799\n",
      "96309\n",
      "68168\n",
      "2\n",
      "2\n"
     ]
    }
   ],
   "source": [
    "print(G_05.number_of_nodes())\n",
    "print(G_06.number_of_nodes())\n",
    "print(G_07.number_of_nodes())\n",
    "print(G_08.number_of_nodes())\n",
    "print(G_09.number_of_nodes())\n",
    "print(G_10.number_of_nodes())\n",
    "print(G_13.number_of_nodes())"
   ]
  },
  {
   "cell_type": "code",
   "execution_count": 19,
   "metadata": {
    "collapsed": false
   },
   "outputs": [
    {
     "name": "stdout",
     "output_type": "stream",
     "text": [
      "['Sweden', 'Turkey', 'Germany', 'Czech Republic', 'Canada', 'Norway', 'United Kingdom', 'Venezuela', 'Finland', 'Romania', 'Mexico', 'Netherlands', 'Belgium', 'Argentina', 'United States', 'Spain', 'Brazil', 'Antarctica']\n"
     ]
    }
   ],
   "source": [
    "print(G_05.neighbors('Linkin Park'))"
   ]
  },
  {
   "cell_type": "code",
   "execution_count": null,
   "metadata": {
    "collapsed": true
   },
   "outputs": [],
   "source": []
  }
 ],
 "metadata": {
  "kernelspec": {
   "display_name": "Python 3",
   "language": "python",
   "name": "python3"
  },
  "language_info": {
   "codemirror_mode": {
    "name": "ipython",
    "version": 3
   },
   "file_extension": ".py",
   "mimetype": "text/x-python",
   "name": "python",
   "nbconvert_exporter": "python",
   "pygments_lexer": "ipython3",
   "version": "3.4.3"
  }
 },
 "nbformat": 4,
 "nbformat_minor": 0
}
